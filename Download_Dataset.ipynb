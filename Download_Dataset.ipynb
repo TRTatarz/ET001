{
  "cells": [
    {
      "cell_type": "markdown",
      "metadata": {
        "id": "lfC0HkTPfDeI"
      },
      "source": [
        "# Download images"
      ]
    },
    {
      "cell_type": "code",
      "execution_count": null,
      "metadata": {
        "colab": {
          "background_save": true,
          "base_uri": "https://localhost:8080/"
        },
        "id": "oc7L65posBhe",
        "outputId": "d62c5741-6d52-4928-933d-1dc589cab0c9"
      },
      "outputs": [
        {
          "name": "stdout",
          "output_type": "stream",
          "text": [
            "\u001b[K     |████████████████████████████████| 719 kB 38.4 MB/s \n",
            "\u001b[K     |████████████████████████████████| 4.9 MB 48.7 MB/s \n",
            "\u001b[K     |████████████████████████████████| 1.3 MB 56.0 MB/s \n",
            "\u001b[K     |████████████████████████████████| 431 kB 72.2 MB/s \n",
            "\u001b[K     |████████████████████████████████| 120 kB 71.5 MB/s \n",
            "\u001b[K     |████████████████████████████████| 212 kB 67.9 MB/s \n",
            "\u001b[K     |████████████████████████████████| 115 kB 71.8 MB/s \n",
            "\u001b[K     |████████████████████████████████| 127 kB 70.8 MB/s \n",
            "\u001b[K     |████████████████████████████████| 6.6 MB 58.5 MB/s \n",
            "\u001b[?25h"
          ]
        }
      ],
      "source": [
        "!pip install -q fastbook"
      ]
    },
    {
      "cell_type": "markdown",
      "metadata": {
        "id": "XU67JnvEpK5a"
      },
      "source": [
        "## Download and Clean Data"
      ]
    },
    {
      "cell_type": "code",
      "execution_count": null,
      "metadata": {
        "id": "PPOOrMXttGa1"
      },
      "outputs": [],
      "source": [
        "from fastbook import (\n",
        "    search_images_ddg, \n",
        "    download_images, \n",
        "    get_image_files,\n",
        "    verify_images,\n",
        "    Path)\n",
        "\n",
        "from tqdm.auto import tqdm"
      ]
    },
    {
      "cell_type": "code",
      "execution_count": null,
      "metadata": {
        "id": "RFWHKz5JwHKM"
      },
      "outputs": [],
      "source": [
        "# search_images_ddg?"
      ]
    },
    {
      "cell_type": "code",
      "execution_count": null,
      "metadata": {
        "id": "ysNoNUqAwUGI"
      },
      "outputs": [],
      "source": [
        "#ลบ folder images\n",
        "!rm -r images"
      ]
    },
    {
      "cell_type": "code",
      "execution_count": null,
      "metadata": {
        "colab": {
          "base_uri": "https://localhost:8080/",
          "height": 49,
          "referenced_widgets": [
            "3bc1c06142cc43a8abead5812fc4e20d",
            "15b5df96d1c647099a79780d7a76921c",
            "80be6a6fd4774f198f048cb790919069",
            "2d303950803a4016b1e0433124f7df90",
            "c291e6d083b3419893fc0aef5cef4058",
            "0914eedb47384eeb81a9d943bc8e9b41",
            "bbb863da46484544853e0c91030d4b2b",
            "fa35304920154250a0331506bee13c87",
            "0463a1f3bb8f487a8cb257915109c760",
            "61ff0d8f26c34abcbce02e524d8d4392",
            "fdb736d66180461db93a12ff57439395"
          ]
        },
        "id": "aqy-oqkB2akA",
        "outputId": "af20de17-494a-46c6-e3e8-305c66687276"
      },
      "outputs": [
        {
          "data": {
            "application/vnd.jupyter.widget-view+json": {
              "model_id": "3bc1c06142cc43a8abead5812fc4e20d",
              "version_major": 2,
              "version_minor": 0
            },
            "text/plain": [
              "  0%|          | 0/1 [00:00<?, ?it/s]"
            ]
          },
          "metadata": {},
          "output_type": "display_data"
        }
      ],
      "source": [
        "path = Path('images')\n",
        "\n",
        "image_labels = [\n",
        "#'Nile tilapia',\n",
        "#'Cichlidae',\n",
        "#'Red Tilapia Fish',\n",
        "#'Clarias',\n",
        "#'snakehead fish',\n",
        "#'Red Tinfoil Barb',\n",
        "'Java barb',\n",
        "#'Leptobarbus hoevenii',\n",
        "#'carp',\n",
        "#'mozambique tilapia',\n",
        "]\n",
        "\n",
        "MAX_N = 200\n",
        "\n",
        "if not path.exists():\n",
        "    path.mkdir()\n",
        "    for o in tqdm(image_labels):\n",
        "        dest = (path/o)\n",
        "        dest.mkdir(exist_ok=True)\n",
        "        results = search_images_ddg(o, max_images=MAX_N)\n",
        "        download_images(dest, urls=results)"
      ]
    },
    {
      "cell_type": "code",
      "execution_count": null,
      "metadata": {
        "colab": {
          "base_uri": "https://localhost:8080/"
        },
        "id": "oeWpOD3L2akA",
        "outputId": "709777f4-2cec-4bdb-9448-c24d8f5c5868"
      },
      "outputs": [
        {
          "data": {
            "text/plain": [
              "(#192) [Path('images/mozambique tilapia/c37631d7-88be-4443-a116-7b1de01f2c3e.png'),Path('images/mozambique tilapia/7fa02ad6-46e9-4e5f-a0fb-a822aca7fa42.jpg'),Path('images/mozambique tilapia/e4aecb1b-b7e6-43a0-ae1b-accb8da4c38f.jpg'),Path('images/mozambique tilapia/7f3be6f7-b951-4b1f-bc03-7e6e7fbd9ccd.jpeg'),Path('images/mozambique tilapia/56f7af02-b23b-4963-aa2a-f4422b2c368e.jpg'),Path('images/mozambique tilapia/629dff91-90db-440c-a21c-14b267759684.jpg'),Path('images/mozambique tilapia/0da21eb7-fc00-4eb5-a799-02e209804560.jpg'),Path('images/mozambique tilapia/696de806-adf2-42e5-bde4-fabc42637227.jpg'),Path('images/mozambique tilapia/25f94726-5f24-40cc-a564-8b942b78d2f6.jpeg'),Path('images/mozambique tilapia/d93f2ee8-c7d2-4fc3-8020-4234a3ea5ba3.jpg')...]"
            ]
          },
          "execution_count": 15,
          "metadata": {},
          "output_type": "execute_result"
        }
      ],
      "source": [
        "fns = get_image_files(path)\n",
        "fns"
      ]
    },
    {
      "cell_type": "code",
      "execution_count": null,
      "metadata": {
        "colab": {
          "base_uri": "https://localhost:8080/"
        },
        "id": "ngL7TO3D2akA",
        "outputId": "ceee8ae6-f91f-4bfa-fb65-f9374f54ea7e"
      },
      "outputs": [
        {
          "data": {
            "text/plain": [
              "(#16) [Path('images/mozambique tilapia/238ab929-3ab4-4233-80f6-1bcd2d08146e.jpg'),Path('images/mozambique tilapia/0d0a2568-bc15-40c4-9f34-c431275d6665.jpg'),Path('images/mozambique tilapia/e967a608-8dab-4647-90f1-5c6a0c04a8fd.png'),Path('images/mozambique tilapia/646b0878-27a5-4979-9e5d-986568d7d938.jpg'),Path('images/mozambique tilapia/d530ced9-1510-4b44-b7e1-8f57cc8dda07.jpg'),Path('images/mozambique tilapia/a617356b-b92e-48a2-9d4f-2e7267e74c13.jpg'),Path('images/mozambique tilapia/7774278b-409e-471d-aa44-a8a021788e0e.jpg'),Path('images/mozambique tilapia/d4cfecdd-849d-4062-8632-08537db811e8.jpg'),Path('images/mozambique tilapia/236890c6-eeb0-4b9f-893e-3067cf457451.jpg'),Path('images/mozambique tilapia/b8e1acdc-e411-4251-993c-f188591127e8.jpg')...]"
            ]
          },
          "execution_count": 16,
          "metadata": {},
          "output_type": "execute_result"
        }
      ],
      "source": [
        "failed = verify_images(fns)\n",
        "failed"
      ]
    },
    {
      "cell_type": "code",
      "execution_count": null,
      "metadata": {
        "id": "Fw3NSfRp2akA"
      },
      "outputs": [],
      "source": [
        "failed.map(Path.unlink);"
      ]
    },
    {
      "cell_type": "code",
      "execution_count": null,
      "metadata": {
        "id": "S3CVi-ltynoe"
      },
      "outputs": [],
      "source": [
        "!zip -r /content/images.zip images"
      ]
    }
  ],
  "metadata": {
    "accelerator": "GPU",
    "colab": {
      "collapsed_sections": [],
      "provenance": []
    },
    "jupytext": {
      "split_at_heading": true
    },
    "kernelspec": {
      "display_name": "Python 3",
      "language": "python",
      "name": "python3"
    },
    "language_info": {
      "codemirror_mode": {
        "name": "ipython",
        "version": 3
      },
      "file_extension": ".py",
      "mimetype": "text/x-python",
      "name": "python",
      "nbconvert_exporter": "python",
      "pygments_lexer": "ipython3",
      "version": "3.6.9"
    },
    "widgets": {
      "application/vnd.jupyter.widget-state+json": {
        "0463a1f3bb8f487a8cb257915109c760": {
          "model_module": "@jupyter-widgets/controls",
          "model_module_version": "1.5.0",
          "model_name": "ProgressStyleModel",
          "state": {
            "_model_module": "@jupyter-widgets/controls",
            "_model_module_version": "1.5.0",
            "_model_name": "ProgressStyleModel",
            "_view_count": null,
            "_view_module": "@jupyter-widgets/base",
            "_view_module_version": "1.2.0",
            "_view_name": "StyleView",
            "bar_color": null,
            "description_width": ""
          }
        },
        "0914eedb47384eeb81a9d943bc8e9b41": {
          "model_module": "@jupyter-widgets/base",
          "model_module_version": "1.2.0",
          "model_name": "LayoutModel",
          "state": {
            "_model_module": "@jupyter-widgets/base",
            "_model_module_version": "1.2.0",
            "_model_name": "LayoutModel",
            "_view_count": null,
            "_view_module": "@jupyter-widgets/base",
            "_view_module_version": "1.2.0",
            "_view_name": "LayoutView",
            "align_content": null,
            "align_items": null,
            "align_self": null,
            "border": null,
            "bottom": null,
            "display": null,
            "flex": null,
            "flex_flow": null,
            "grid_area": null,
            "grid_auto_columns": null,
            "grid_auto_flow": null,
            "grid_auto_rows": null,
            "grid_column": null,
            "grid_gap": null,
            "grid_row": null,
            "grid_template_areas": null,
            "grid_template_columns": null,
            "grid_template_rows": null,
            "height": null,
            "justify_content": null,
            "justify_items": null,
            "left": null,
            "margin": null,
            "max_height": null,
            "max_width": null,
            "min_height": null,
            "min_width": null,
            "object_fit": null,
            "object_position": null,
            "order": null,
            "overflow": null,
            "overflow_x": null,
            "overflow_y": null,
            "padding": null,
            "right": null,
            "top": null,
            "visibility": null,
            "width": null
          }
        },
        "15b5df96d1c647099a79780d7a76921c": {
          "model_module": "@jupyter-widgets/controls",
          "model_module_version": "1.5.0",
          "model_name": "HTMLModel",
          "state": {
            "_dom_classes": [],
            "_model_module": "@jupyter-widgets/controls",
            "_model_module_version": "1.5.0",
            "_model_name": "HTMLModel",
            "_view_count": null,
            "_view_module": "@jupyter-widgets/controls",
            "_view_module_version": "1.5.0",
            "_view_name": "HTMLView",
            "description": "",
            "description_tooltip": null,
            "layout": "IPY_MODEL_0914eedb47384eeb81a9d943bc8e9b41",
            "placeholder": "​",
            "style": "IPY_MODEL_bbb863da46484544853e0c91030d4b2b",
            "value": "100%"
          }
        },
        "2d303950803a4016b1e0433124f7df90": {
          "model_module": "@jupyter-widgets/controls",
          "model_module_version": "1.5.0",
          "model_name": "HTMLModel",
          "state": {
            "_dom_classes": [],
            "_model_module": "@jupyter-widgets/controls",
            "_model_module_version": "1.5.0",
            "_model_name": "HTMLModel",
            "_view_count": null,
            "_view_module": "@jupyter-widgets/controls",
            "_view_module_version": "1.5.0",
            "_view_name": "HTMLView",
            "description": "",
            "description_tooltip": null,
            "layout": "IPY_MODEL_61ff0d8f26c34abcbce02e524d8d4392",
            "placeholder": "​",
            "style": "IPY_MODEL_fdb736d66180461db93a12ff57439395",
            "value": " 1/1 [00:23&lt;00:00, 23.40s/it]"
          }
        },
        "3bc1c06142cc43a8abead5812fc4e20d": {
          "model_module": "@jupyter-widgets/controls",
          "model_module_version": "1.5.0",
          "model_name": "HBoxModel",
          "state": {
            "_dom_classes": [],
            "_model_module": "@jupyter-widgets/controls",
            "_model_module_version": "1.5.0",
            "_model_name": "HBoxModel",
            "_view_count": null,
            "_view_module": "@jupyter-widgets/controls",
            "_view_module_version": "1.5.0",
            "_view_name": "HBoxView",
            "box_style": "",
            "children": [
              "IPY_MODEL_15b5df96d1c647099a79780d7a76921c",
              "IPY_MODEL_80be6a6fd4774f198f048cb790919069",
              "IPY_MODEL_2d303950803a4016b1e0433124f7df90"
            ],
            "layout": "IPY_MODEL_c291e6d083b3419893fc0aef5cef4058"
          }
        },
        "61ff0d8f26c34abcbce02e524d8d4392": {
          "model_module": "@jupyter-widgets/base",
          "model_module_version": "1.2.0",
          "model_name": "LayoutModel",
          "state": {
            "_model_module": "@jupyter-widgets/base",
            "_model_module_version": "1.2.0",
            "_model_name": "LayoutModel",
            "_view_count": null,
            "_view_module": "@jupyter-widgets/base",
            "_view_module_version": "1.2.0",
            "_view_name": "LayoutView",
            "align_content": null,
            "align_items": null,
            "align_self": null,
            "border": null,
            "bottom": null,
            "display": null,
            "flex": null,
            "flex_flow": null,
            "grid_area": null,
            "grid_auto_columns": null,
            "grid_auto_flow": null,
            "grid_auto_rows": null,
            "grid_column": null,
            "grid_gap": null,
            "grid_row": null,
            "grid_template_areas": null,
            "grid_template_columns": null,
            "grid_template_rows": null,
            "height": null,
            "justify_content": null,
            "justify_items": null,
            "left": null,
            "margin": null,
            "max_height": null,
            "max_width": null,
            "min_height": null,
            "min_width": null,
            "object_fit": null,
            "object_position": null,
            "order": null,
            "overflow": null,
            "overflow_x": null,
            "overflow_y": null,
            "padding": null,
            "right": null,
            "top": null,
            "visibility": null,
            "width": null
          }
        },
        "80be6a6fd4774f198f048cb790919069": {
          "model_module": "@jupyter-widgets/controls",
          "model_module_version": "1.5.0",
          "model_name": "FloatProgressModel",
          "state": {
            "_dom_classes": [],
            "_model_module": "@jupyter-widgets/controls",
            "_model_module_version": "1.5.0",
            "_model_name": "FloatProgressModel",
            "_view_count": null,
            "_view_module": "@jupyter-widgets/controls",
            "_view_module_version": "1.5.0",
            "_view_name": "ProgressView",
            "bar_style": "success",
            "description": "",
            "description_tooltip": null,
            "layout": "IPY_MODEL_fa35304920154250a0331506bee13c87",
            "max": 1,
            "min": 0,
            "orientation": "horizontal",
            "style": "IPY_MODEL_0463a1f3bb8f487a8cb257915109c760",
            "value": 1
          }
        },
        "bbb863da46484544853e0c91030d4b2b": {
          "model_module": "@jupyter-widgets/controls",
          "model_module_version": "1.5.0",
          "model_name": "DescriptionStyleModel",
          "state": {
            "_model_module": "@jupyter-widgets/controls",
            "_model_module_version": "1.5.0",
            "_model_name": "DescriptionStyleModel",
            "_view_count": null,
            "_view_module": "@jupyter-widgets/base",
            "_view_module_version": "1.2.0",
            "_view_name": "StyleView",
            "description_width": ""
          }
        },
        "c291e6d083b3419893fc0aef5cef4058": {
          "model_module": "@jupyter-widgets/base",
          "model_module_version": "1.2.0",
          "model_name": "LayoutModel",
          "state": {
            "_model_module": "@jupyter-widgets/base",
            "_model_module_version": "1.2.0",
            "_model_name": "LayoutModel",
            "_view_count": null,
            "_view_module": "@jupyter-widgets/base",
            "_view_module_version": "1.2.0",
            "_view_name": "LayoutView",
            "align_content": null,
            "align_items": null,
            "align_self": null,
            "border": null,
            "bottom": null,
            "display": null,
            "flex": null,
            "flex_flow": null,
            "grid_area": null,
            "grid_auto_columns": null,
            "grid_auto_flow": null,
            "grid_auto_rows": null,
            "grid_column": null,
            "grid_gap": null,
            "grid_row": null,
            "grid_template_areas": null,
            "grid_template_columns": null,
            "grid_template_rows": null,
            "height": null,
            "justify_content": null,
            "justify_items": null,
            "left": null,
            "margin": null,
            "max_height": null,
            "max_width": null,
            "min_height": null,
            "min_width": null,
            "object_fit": null,
            "object_position": null,
            "order": null,
            "overflow": null,
            "overflow_x": null,
            "overflow_y": null,
            "padding": null,
            "right": null,
            "top": null,
            "visibility": null,
            "width": null
          }
        },
        "fa35304920154250a0331506bee13c87": {
          "model_module": "@jupyter-widgets/base",
          "model_module_version": "1.2.0",
          "model_name": "LayoutModel",
          "state": {
            "_model_module": "@jupyter-widgets/base",
            "_model_module_version": "1.2.0",
            "_model_name": "LayoutModel",
            "_view_count": null,
            "_view_module": "@jupyter-widgets/base",
            "_view_module_version": "1.2.0",
            "_view_name": "LayoutView",
            "align_content": null,
            "align_items": null,
            "align_self": null,
            "border": null,
            "bottom": null,
            "display": null,
            "flex": null,
            "flex_flow": null,
            "grid_area": null,
            "grid_auto_columns": null,
            "grid_auto_flow": null,
            "grid_auto_rows": null,
            "grid_column": null,
            "grid_gap": null,
            "grid_row": null,
            "grid_template_areas": null,
            "grid_template_columns": null,
            "grid_template_rows": null,
            "height": null,
            "justify_content": null,
            "justify_items": null,
            "left": null,
            "margin": null,
            "max_height": null,
            "max_width": null,
            "min_height": null,
            "min_width": null,
            "object_fit": null,
            "object_position": null,
            "order": null,
            "overflow": null,
            "overflow_x": null,
            "overflow_y": null,
            "padding": null,
            "right": null,
            "top": null,
            "visibility": null,
            "width": null
          }
        },
        "fdb736d66180461db93a12ff57439395": {
          "model_module": "@jupyter-widgets/controls",
          "model_module_version": "1.5.0",
          "model_name": "DescriptionStyleModel",
          "state": {
            "_model_module": "@jupyter-widgets/controls",
            "_model_module_version": "1.5.0",
            "_model_name": "DescriptionStyleModel",
            "_view_count": null,
            "_view_module": "@jupyter-widgets/base",
            "_view_module_version": "1.2.0",
            "_view_name": "StyleView",
            "description_width": ""
          }
        }
      }
    }
  },
  "nbformat": 4,
  "nbformat_minor": 0
}